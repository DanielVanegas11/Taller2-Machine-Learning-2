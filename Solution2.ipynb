{
 "cells": [
  {
   "attachments": {},
   "cell_type": "markdown",
   "metadata": {},
   "source": [
    "a) DBSCAN is very useful in identifying clusters that can have very diverse shapes, as well as identifying outliers or anomalous values. It is widely applied in fraud detection in banking transactions, where it clusters transactions that are considered \"normal\", and those that fall outside are considered outliers and subject to review. It is also used in social networks, sensor analysis, and image detection, where it has a very interesting clustering potential."
   ]
  },
  {
   "attachments": {},
   "cell_type": "markdown",
   "metadata": {},
   "source": [
    "b) The mathematical algorithm of DBSCAN is based on a minimum density and a user-defined radius, where the algorithm takes a random point in space and according to the established criteria, identifies the points that are within the selected radius and if they meet the minimum threshold, it is considered that a cluster has been found and continues with the following points that have not been clustered, performing the same process. Those points that are not within any cluster are considered noise or outliers."
   ]
  },
  {
   "attachments": {},
   "cell_type": "markdown",
   "metadata": {},
   "source": [
    "C) The relationship between DBSCAN and spectral clustering is that both are capable of creating clusters of different shapes and sizes and correctly separating data that is considered noise or outliers. Although there are significant differences in the construction of each algorithm, DBSCAN is based on the density of points and a given radius, while spectral clustering is based on the construction of an affinity matrix and the extraction of the first two eigenvectors of the Laplacian matrix."
   ]
  },
  {
   "cell_type": "code",
   "execution_count": null,
   "metadata": {},
   "outputs": [],
   "source": []
  }
 ],
 "metadata": {
  "language_info": {
   "name": "python"
  },
  "orig_nbformat": 4
 },
 "nbformat": 4,
 "nbformat_minor": 2
}
