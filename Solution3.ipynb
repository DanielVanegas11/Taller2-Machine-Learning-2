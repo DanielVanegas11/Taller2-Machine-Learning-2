{
 "cells": [
  {
   "attachments": {},
   "cell_type": "markdown",
   "metadata": {},
   "source": [
    "The elbow method in clustering is a commonly used technique to identify the optimal number (k) of clusters in a dataset. This is done by plotting the sum of the mean squared error of the elements in each cluster versus the total number of clusters. As the number of clusters increases, a curve is identified in the graph where it is assumed to be the optimal number of clusters for the dataset. However, the method has some limitations in evaluating quality in the sense that generally, as the number of clusters increases, the mean squared error decreases, making it difficult to identify the elbow in the graph at times. Additionally, the elbow method does not take into account the distribution of data points belonging to each cluster, which can be important in evaluating the quality of the clusters."
   ]
  },
  {
   "cell_type": "code",
   "execution_count": null,
   "metadata": {},
   "outputs": [],
   "source": []
  }
 ],
 "metadata": {
  "language_info": {
   "name": "python"
  },
  "orig_nbformat": 4
 },
 "nbformat": 4,
 "nbformat_minor": 2
}
