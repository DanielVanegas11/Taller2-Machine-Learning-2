{
 "cells": [
  {
   "cell_type": "code",
   "execution_count": null,
   "metadata": {},
   "outputs": [],
   "source": [
    "import pandas as pd\n",
    "from kmeans import KMeans\n",
    "\n",
    "# Leer los datos desde un archivo CSV\n",
    "clientes = pd.read_csv('clientes.csv')\n",
    "\n",
    "# Seleccionar las columnas relevantes para el agrupamiento\n",
    "X = clientes[['IngresosAnuales', 'TiempoPasadoEnLaTienda', 'ComprasRealizadas']].to_numpy()\n",
    "\n",
    "# Crear un objeto KMeans con 5 clústeres y entrenarlo en los datos\n",
    "kmeans = KMeans(k=5)\n",
    "kmeans.fit(X)\n",
    "\n",
    "# Obtener las etiquetas de clúster para cada cliente\n",
    "labels = kmeans.predict(X)\n",
    "\n",
    "# Agregar las etiquetas de clúster al DataFrame de clientes\n",
    "clientes['Segmento'] = labels\n",
    "\n",
    "# Mostrar los clientes agrupados por segmento\n",
    "print(clientes.groupby('Segmento').mean())"
   ]
  },
  {
   "cell_type": "code",
   "execution_count": null,
   "metadata": {},
   "outputs": [],
   "source": []
  }
 ],
 "metadata": {
  "kernelspec": {
   "display_name": "base",
   "language": "python",
   "name": "python3"
  },
  "language_info": {
   "name": "python",
   "version": "3.9.12"
  },
  "orig_nbformat": 4
 },
 "nbformat": 4,
 "nbformat_minor": 2
}
